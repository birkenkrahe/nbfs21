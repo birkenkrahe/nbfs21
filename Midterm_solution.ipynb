{
  "nbformat": 4,
  "nbformat_minor": 0,
  "metadata": {
    "colab": {
      "name": "Midterm_solution",
      "provenance": [],
      "authorship_tag": "ABX9TyON4nHlq3AuXxyuBIUoS3a8",
      "include_colab_link": true
    },
    "kernelspec": {
      "name": "ir",
      "display_name": "R"
    },
    "language_info": {
      "name": "R"
    }
  },
  "cells": [
    {
      "cell_type": "markdown",
      "metadata": {
        "id": "view-in-github",
        "colab_type": "text"
      },
      "source": [
        "<a href=\"https://colab.research.google.com/github/birkenkrahe/notebooksf21/blob/main/Midterm_solution.ipynb\" target=\"_parent\"><img src=\"https://colab.research.google.com/assets/colab-badge.svg\" alt=\"Open In Colab\"/></a>"
      ]
    },
    {
      "cell_type": "markdown",
      "metadata": {
        "id": "07XtQN8l5Po3"
      },
      "source": [
        "# Properties of R (5 points)\n",
        "List as many properties of R as you can think of.\n",
        "\n",
        "**Tip:** remember the information obtained when opening R from the terminal. I could think of ten different properties. If you only identify 5, you get full points - any more will get you extra points.\n"
      ]
    },
    {
      "cell_type": "markdown",
      "metadata": {
        "id": "RMHX0Qpt5xGe"
      },
      "source": [
        "**ANSWER**\n",
        "\n",
        "    1. Free software (GNU license)\n",
        "    2. Statistical programming language\n",
        "    3. Functional programming language\n",
        "    4. Object-oriented programming language\n",
        "    5. Successor to S\n",
        "    6. Collaborative project\n",
        "    7. Interactive shell language\n",
        "    8. Graphics oriented\n",
        "    9. Easy to learn\n",
        "    10. Large user community"
      ]
    },
    {
      "cell_type": "markdown",
      "metadata": {
        "id": "ZcDywa3S71oN"
      },
      "source": [
        "# Data structures (5 points)\n",
        " Write the commands for each of the following steps:\n",
        "\n",
        "1. Assign the number 5 to the object `x`"
      ]
    },
    {
      "cell_type": "code",
      "metadata": {
        "id": "XYeIfA0o5IQE"
      },
      "source": [
        "x <- 5"
      ],
      "execution_count": 1,
      "outputs": []
    },
    {
      "cell_type": "markdown",
      "metadata": {
        "id": "CdWW0JL79dH4"
      },
      "source": [
        "2. Create a character vector `y` with four words in it (in this order): `fall`, `break`, `is`, `coming`."
      ]
    },
    {
      "cell_type": "code",
      "metadata": {
        "id": "Uznrk3WE5mKY"
      },
      "source": [
        "y <- c(\"fall\", \"break\", \"is\", \"coming\")"
      ],
      "execution_count": 3,
      "outputs": []
    },
    {
      "cell_type": "markdown",
      "metadata": {
        "id": "-mZjto4z-AuP"
      },
      "source": [
        "3. Create a named list from `x` and `y` (in this order), and assign the list to the object `z`. Give `x` the name `\"Jill\"`, and `y` the name `\"Jack\"`."
      ]
    },
    {
      "cell_type": "code",
      "metadata": {
        "id": "AAYXnyAF-F7V"
      },
      "source": [
        "z <- list(\"Jill\"=x,\"Jack\"=y)"
      ],
      "execution_count": 4,
      "outputs": []
    },
    {
      "cell_type": "markdown",
      "metadata": {
        "id": "z0daCIGN-ZjR"
      },
      "source": [
        "4. What is the length of `z$Jack`?"
      ]
    },
    {
      "cell_type": "code",
      "metadata": {
        "colab": {
          "base_uri": "https://localhost:8080/",
          "height": 34
        },
        "id": "jSDZuDOe-WAj",
        "outputId": "0abe9a53-57eb-4c23-a92b-0c47985d9908"
      },
      "source": [
        "length(z$Jack) # length of the list element \"Jack\" - the character vector y"
      ],
      "execution_count": 6,
      "outputs": [
        {
          "output_type": "display_data",
          "data": {
            "text/plain": [
              "[1] 4"
            ],
            "text/latex": "4",
            "text/markdown": "4",
            "text/html": [
              "4"
            ]
          },
          "metadata": {}
        }
      ]
    },
    {
      "cell_type": "markdown",
      "metadata": {
        "id": "syBU2rdp-loC"
      },
      "source": [
        "5. What is the length of `z`?"
      ]
    },
    {
      "cell_type": "code",
      "metadata": {
        "colab": {
          "base_uri": "https://localhost:8080/",
          "height": 34
        },
        "id": "ZnaE379M-tOS",
        "outputId": "8753a935-554b-43b4-bec6-e1dd06ed3394"
      },
      "source": [
        "length(z) # length of the list"
      ],
      "execution_count": 7,
      "outputs": [
        {
          "output_type": "display_data",
          "data": {
            "text/plain": [
              "[1] 2"
            ],
            "text/latex": "2",
            "text/markdown": "2",
            "text/html": [
              "2"
            ]
          },
          "metadata": {}
        }
      ]
    },
    {
      "cell_type": "markdown",
      "metadata": {
        "id": "2nJY1kr1_FHO"
      },
      "source": [
        "# Printing a subvector (4 points)\n",
        "\n",
        "Let `x` be a vector `c(1,2,3,4,5,6)`. List the commands to print only the first **three** elements of `x`\n",
        "\n",
        "\n",
        "**Tip:** I found ten different ways to do this using functions and the index operator. If you find four commands, you'll get full points - any more will get you extra points. "
      ]
    },
    {
      "cell_type": "code",
      "metadata": {
        "id": "yPCuLzIy_kxs"
      },
      "source": [
        "x <- c(1,2,3,4,5,6) # numeric vector of six elements"
      ],
      "execution_count": 8,
      "outputs": []
    },
    {
      "cell_type": "markdown",
      "metadata": {
        "id": "Hz3DosAd_zEq"
      },
      "source": [
        "1. Using the `head()` function and the colon operator `:` to extract the first three indices. That the vector elements are identical to their indices is an accident! This would also work for a different vector, like `c(2,3,4,5,6,7)`."
      ]
    },
    {
      "cell_type": "code",
      "metadata": {
        "colab": {
          "base_uri": "https://localhost:8080/",
          "height": 34
        },
        "id": "c19UkiFx_4Yb",
        "outputId": "ad43d47f-9ee8-4c95-857b-730dd41bd427"
      },
      "source": [
        "head(1:3)"
      ],
      "execution_count": 9,
      "outputs": [
        {
          "output_type": "display_data",
          "data": {
            "text/plain": [
              "[1] 1 2 3"
            ],
            "text/latex": "\\begin{enumerate*}\n\\item 1\n\\item 2\n\\item 3\n\\end{enumerate*}\n",
            "text/markdown": "1. 1\n2. 2\n3. 3\n\n\n",
            "text/html": [
              "<style>\n",
              ".list-inline {list-style: none; margin:0; padding: 0}\n",
              ".list-inline>li {display: inline-block}\n",
              ".list-inline>li:not(:last-child)::after {content: \"\\00b7\"; padding: 0 .5ex}\n",
              "</style>\n",
              "<ol class=list-inline><li>1</li><li>2</li><li>3</li></ol>\n"
            ]
          },
          "metadata": {}
        }
      ]
    },
    {
      "cell_type": "markdown",
      "metadata": {
        "id": "zs3TX5oSAPwn"
      },
      "source": [
        "2. Using the colon operator and the index operator `[ ]` to extract the first three indices. "
      ]
    },
    {
      "cell_type": "code",
      "metadata": {
        "colab": {
          "base_uri": "https://localhost:8080/",
          "height": 34
        },
        "id": "1zCFqcpDAjuz",
        "outputId": "a4232a43-8188-4d90-cae1-9cf336c49861"
      },
      "source": [
        "x[1:3]"
      ],
      "execution_count": 10,
      "outputs": [
        {
          "output_type": "display_data",
          "data": {
            "text/plain": [
              "[1] 1 2 3"
            ],
            "text/latex": "\\begin{enumerate*}\n\\item 1\n\\item 2\n\\item 3\n\\end{enumerate*}\n",
            "text/markdown": "1. 1\n2. 2\n3. 3\n\n\n",
            "text/html": [
              "<style>\n",
              ".list-inline {list-style: none; margin:0; padding: 0}\n",
              ".list-inline>li {display: inline-block}\n",
              ".list-inline>li:not(:last-child)::after {content: \"\\00b7\"; padding: 0 .5ex}\n",
              "</style>\n",
              "<ol class=list-inline><li>1</li><li>2</li><li>3</li></ol>\n"
            ]
          },
          "metadata": {}
        }
      ]
    },
    {
      "cell_type": "markdown",
      "metadata": {
        "id": "lFYk5hfnBhyw"
      },
      "source": [
        "3. Using the index operator and the `c()` concatenation function to extrac the first three indices."
      ]
    },
    {
      "cell_type": "code",
      "metadata": {
        "colab": {
          "base_uri": "https://localhost:8080/",
          "height": 34
        },
        "id": "4yuS_tmvBrRk",
        "outputId": "d8e1beda-d558-4b11-929d-a34af4211da7"
      },
      "source": [
        "x[c(1,2,3)]"
      ],
      "execution_count": 11,
      "outputs": [
        {
          "output_type": "display_data",
          "data": {
            "text/plain": [
              "[1] 1 2 3"
            ],
            "text/latex": "\\begin{enumerate*}\n\\item 1\n\\item 2\n\\item 3\n\\end{enumerate*}\n",
            "text/markdown": "1. 1\n2. 2\n3. 3\n\n\n",
            "text/html": [
              "<style>\n",
              ".list-inline {list-style: none; margin:0; padding: 0}\n",
              ".list-inline>li {display: inline-block}\n",
              ".list-inline>li:not(:last-child)::after {content: \"\\00b7\"; padding: 0 .5ex}\n",
              "</style>\n",
              "<ol class=list-inline><li>1</li><li>2</li><li>3</li></ol>\n"
            ]
          },
          "metadata": {}
        }
      ]
    },
    {
      "cell_type": "markdown",
      "metadata": {
        "id": "5QF9bUovBus0"
      },
      "source": [
        "4. Using the `subset()` function and logical operators to extract the first three indices. The evaluation of the second argument yields the index set 1,2,3 - the logical expression is true for 1,2,3. "
      ]
    },
    {
      "cell_type": "code",
      "metadata": {
        "colab": {
          "base_uri": "https://localhost:8080/",
          "height": 34
        },
        "id": "g8HBr8HFCD21",
        "outputId": "06ee2858-b8f4-4388-87e4-6bceb4d429f9"
      },
      "source": [
        "subset(x, x<4) # using the operator <"
      ],
      "execution_count": 12,
      "outputs": [
        {
          "output_type": "display_data",
          "data": {
            "text/plain": [
              "[1] 1 2 3"
            ],
            "text/latex": "\\begin{enumerate*}\n\\item 1\n\\item 2\n\\item 3\n\\end{enumerate*}\n",
            "text/markdown": "1. 1\n2. 2\n3. 3\n\n\n",
            "text/html": [
              "<style>\n",
              ".list-inline {list-style: none; margin:0; padding: 0}\n",
              ".list-inline>li {display: inline-block}\n",
              ".list-inline>li:not(:last-child)::after {content: \"\\00b7\"; padding: 0 .5ex}\n",
              "</style>\n",
              "<ol class=list-inline><li>1</li><li>2</li><li>3</li></ol>\n"
            ]
          },
          "metadata": {}
        }
      ]
    },
    {
      "cell_type": "code",
      "metadata": {
        "colab": {
          "base_uri": "https://localhost:8080/",
          "height": 34
        },
        "id": "kV406C53CIMm",
        "outputId": "38f7b8d6-a64e-4f9b-aa59-1d065e1c966e"
      },
      "source": [
        "subset(x, x==1|x==2|x==3) # using operators == and | (OR)"
      ],
      "execution_count": 13,
      "outputs": [
        {
          "output_type": "display_data",
          "data": {
            "text/plain": [
              "[1] 1 2 3"
            ],
            "text/latex": "\\begin{enumerate*}\n\\item 1\n\\item 2\n\\item 3\n\\end{enumerate*}\n",
            "text/markdown": "1. 1\n2. 2\n3. 3\n\n\n",
            "text/html": [
              "<style>\n",
              ".list-inline {list-style: none; margin:0; padding: 0}\n",
              ".list-inline>li {display: inline-block}\n",
              ".list-inline>li:not(:last-child)::after {content: \"\\00b7\"; padding: 0 .5ex}\n",
              "</style>\n",
              "<ol class=list-inline><li>1</li><li>2</li><li>3</li></ol>\n"
            ]
          },
          "metadata": {}
        }
      ]
    },
    {
      "cell_type": "code",
      "metadata": {
        "colab": {
          "base_uri": "https://localhost:8080/",
          "height": 34
        },
        "id": "MnwXefq7CklC",
        "outputId": "c963f0bb-1e49-48bf-b841-972b074bfb92"
      },
      "source": [
        "subset(x,x!=4&x!=5&x!=6) # using operators != and & (AND)"
      ],
      "execution_count": 14,
      "outputs": [
        {
          "output_type": "display_data",
          "data": {
            "text/plain": [
              "[1] 1 2 3"
            ],
            "text/latex": "\\begin{enumerate*}\n\\item 1\n\\item 2\n\\item 3\n\\end{enumerate*}\n",
            "text/markdown": "1. 1\n2. 2\n3. 3\n\n\n",
            "text/html": [
              "<style>\n",
              ".list-inline {list-style: none; margin:0; padding: 0}\n",
              ".list-inline>li {display: inline-block}\n",
              ".list-inline>li:not(:last-child)::after {content: \"\\00b7\"; padding: 0 .5ex}\n",
              "</style>\n",
              "<ol class=list-inline><li>1</li><li>2</li><li>3</li></ol>\n"
            ]
          },
          "metadata": {}
        }
      ]
    },
    {
      "cell_type": "markdown",
      "metadata": {
        "id": "b9oB7tmMC-u7"
      },
      "source": [
        "5. Indexing with the sequence vector generator function `seq()`. This function has more arguments, but we only need to specify start and end of the sequence. The default step width is 1."
      ]
    },
    {
      "cell_type": "code",
      "metadata": {
        "colab": {
          "base_uri": "https://localhost:8080/",
          "height": 34
        },
        "id": "5xJdsA7hDP7e",
        "outputId": "5afd639d-0584-4a48-e4d7-365e93162eb7"
      },
      "source": [
        "x[seq(from=1,to=3)] # this is really the same as x[c(1,2,3)]"
      ],
      "execution_count": 16,
      "outputs": [
        {
          "output_type": "display_data",
          "data": {
            "text/plain": [
              "[1] 1 2 3"
            ],
            "text/latex": "\\begin{enumerate*}\n\\item 1\n\\item 2\n\\item 3\n\\end{enumerate*}\n",
            "text/markdown": "1. 1\n2. 2\n3. 3\n\n\n",
            "text/html": [
              "<style>\n",
              ".list-inline {list-style: none; margin:0; padding: 0}\n",
              ".list-inline>li {display: inline-block}\n",
              ".list-inline>li:not(:last-child)::after {content: \"\\00b7\"; padding: 0 .5ex}\n",
              "</style>\n",
              "<ol class=list-inline><li>1</li><li>2</li><li>3</li></ol>\n"
            ]
          },
          "metadata": {}
        }
      ]
    },
    {
      "cell_type": "markdown",
      "metadata": {
        "id": "GadeRuWuDXCm"
      },
      "source": [
        "6. Indexing with the repetition vector generator function `rep()`. The default is a repetition of frequency 1. "
      ]
    },
    {
      "cell_type": "code",
      "metadata": {
        "colab": {
          "base_uri": "https://localhost:8080/",
          "height": 34
        },
        "id": "K69wY6zxDntn",
        "outputId": "dbbb966e-0d7f-49c5-a6d8-e2b675a1eccc"
      },
      "source": [
        "x[rep(c(1,2,3))] # this is really the same as x[c(1,2,3)]"
      ],
      "execution_count": 18,
      "outputs": [
        {
          "output_type": "display_data",
          "data": {
            "text/plain": [
              "[1] 1 2 3"
            ],
            "text/latex": "\\begin{enumerate*}\n\\item 1\n\\item 2\n\\item 3\n\\end{enumerate*}\n",
            "text/markdown": "1. 1\n2. 2\n3. 3\n\n\n",
            "text/html": [
              "<style>\n",
              ".list-inline {list-style: none; margin:0; padding: 0}\n",
              ".list-inline>li {display: inline-block}\n",
              ".list-inline>li:not(:last-child)::after {content: \"\\00b7\"; padding: 0 .5ex}\n",
              "</style>\n",
              "<ol class=list-inline><li>1</li><li>2</li><li>3</li></ol>\n"
            ]
          },
          "metadata": {}
        }
      ]
    },
    {
      "cell_type": "markdown",
      "metadata": {
        "id": "SwdB9XyHD3AR"
      },
      "source": [
        "7. Instead of selecting the indices we want (1,2,3), we can also remove the indices that we do not need (4,5,6). We can use either the colon operator or the `c()` function for that. In fact, we could also use `seq()` or `rep()`."
      ]
    },
    {
      "cell_type": "code",
      "metadata": {
        "colab": {
          "base_uri": "https://localhost:8080/",
          "height": 34
        },
        "id": "zCqim3QhEuTX",
        "outputId": "b146b78a-a283-459b-805f-8c94a936ccb4"
      },
      "source": [
        "x[(-4):(-6)] # using the deletion operator `-` to remove indices 4, 5,6"
      ],
      "execution_count": 20,
      "outputs": [
        {
          "output_type": "display_data",
          "data": {
            "text/plain": [
              "[1] 1 2 3"
            ],
            "text/latex": "\\begin{enumerate*}\n\\item 1\n\\item 2\n\\item 3\n\\end{enumerate*}\n",
            "text/markdown": "1. 1\n2. 2\n3. 3\n\n\n",
            "text/html": [
              "<style>\n",
              ".list-inline {list-style: none; margin:0; padding: 0}\n",
              ".list-inline>li {display: inline-block}\n",
              ".list-inline>li:not(:last-child)::after {content: \"\\00b7\"; padding: 0 .5ex}\n",
              "</style>\n",
              "<ol class=list-inline><li>1</li><li>2</li><li>3</li></ol>\n"
            ]
          },
          "metadata": {}
        }
      ]
    },
    {
      "cell_type": "code",
      "metadata": {
        "colab": {
          "base_uri": "https://localhost:8080/",
          "height": 34
        },
        "id": "vfz9vME4E3ic",
        "outputId": "77ec308a-b2cf-4986-da3a-1f93e1d924b6"
      },
      "source": [
        "x[c(-4,-5,-6)] # removing indices 4,5,6"
      ],
      "execution_count": 21,
      "outputs": [
        {
          "output_type": "display_data",
          "data": {
            "text/plain": [
              "[1] 1 2 3"
            ],
            "text/latex": "\\begin{enumerate*}\n\\item 1\n\\item 2\n\\item 3\n\\end{enumerate*}\n",
            "text/markdown": "1. 1\n2. 2\n3. 3\n\n\n",
            "text/html": [
              "<style>\n",
              ".list-inline {list-style: none; margin:0; padding: 0}\n",
              ".list-inline>li {display: inline-block}\n",
              ".list-inline>li:not(:last-child)::after {content: \"\\00b7\"; padding: 0 .5ex}\n",
              "</style>\n",
              "<ol class=list-inline><li>1</li><li>2</li><li>3</li></ol>\n"
            ]
          },
          "metadata": {}
        }
      ]
    },
    {
      "cell_type": "markdown",
      "metadata": {
        "id": "dilfIeosFPQw"
      },
      "source": [
        "# Printing data set rows (1 point)\n",
        "How do you print the last **five** rows of the data frame `mtcars`?\n",
        "\n",
        "**Tip:** this is easiest done with a function. Remember that this function has a default value for the number of rows it prints."
      ]
    },
    {
      "cell_type": "code",
      "metadata": {
        "colab": {
          "base_uri": "https://localhost:8080/",
          "height": 250
        },
        "id": "73ZnBMpMGIHF",
        "outputId": "ee5c0643-5d35-4777-d6d7-55c749dd1abc"
      },
      "source": [
        "tail(mtcars,5)  # the default for the 2nd argument is 6"
      ],
      "execution_count": 38,
      "outputs": [
        {
          "output_type": "display_data",
          "data": {
            "text/plain": [
              "               mpg  cyl disp  hp  drat wt    qsec vs am gear carb\n",
              "Lotus Europa   30.4 4    95.1 113 3.77 1.513 16.9 1  1  5    2   \n",
              "Ford Pantera L 15.8 8   351.0 264 4.22 3.170 14.5 0  1  5    4   \n",
              "Ferrari Dino   19.7 6   145.0 175 3.62 2.770 15.5 0  1  5    6   \n",
              "Maserati Bora  15.0 8   301.0 335 3.54 3.570 14.6 0  1  5    8   \n",
              "Volvo 142E     21.4 4   121.0 109 4.11 2.780 18.6 1  1  4    2   "
            ],
            "text/latex": "A data.frame: 5 × 11\n\\begin{tabular}{r|lllllllllll}\n  & mpg & cyl & disp & hp & drat & wt & qsec & vs & am & gear & carb\\\\\n  & <dbl> & <dbl> & <dbl> & <dbl> & <dbl> & <dbl> & <dbl> & <dbl> & <dbl> & <dbl> & <dbl>\\\\\n\\hline\n\tLotus Europa & 30.4 & 4 &  95.1 & 113 & 3.77 & 1.513 & 16.9 & 1 & 1 & 5 & 2\\\\\n\tFord Pantera L & 15.8 & 8 & 351.0 & 264 & 4.22 & 3.170 & 14.5 & 0 & 1 & 5 & 4\\\\\n\tFerrari Dino & 19.7 & 6 & 145.0 & 175 & 3.62 & 2.770 & 15.5 & 0 & 1 & 5 & 6\\\\\n\tMaserati Bora & 15.0 & 8 & 301.0 & 335 & 3.54 & 3.570 & 14.6 & 0 & 1 & 5 & 8\\\\\n\tVolvo 142E & 21.4 & 4 & 121.0 & 109 & 4.11 & 2.780 & 18.6 & 1 & 1 & 4 & 2\\\\\n\\end{tabular}\n",
            "text/markdown": "\nA data.frame: 5 × 11\n\n| <!--/--> | mpg &lt;dbl&gt; | cyl &lt;dbl&gt; | disp &lt;dbl&gt; | hp &lt;dbl&gt; | drat &lt;dbl&gt; | wt &lt;dbl&gt; | qsec &lt;dbl&gt; | vs &lt;dbl&gt; | am &lt;dbl&gt; | gear &lt;dbl&gt; | carb &lt;dbl&gt; |\n|---|---|---|---|---|---|---|---|---|---|---|---|\n| Lotus Europa | 30.4 | 4 |  95.1 | 113 | 3.77 | 1.513 | 16.9 | 1 | 1 | 5 | 2 |\n| Ford Pantera L | 15.8 | 8 | 351.0 | 264 | 4.22 | 3.170 | 14.5 | 0 | 1 | 5 | 4 |\n| Ferrari Dino | 19.7 | 6 | 145.0 | 175 | 3.62 | 2.770 | 15.5 | 0 | 1 | 5 | 6 |\n| Maserati Bora | 15.0 | 8 | 301.0 | 335 | 3.54 | 3.570 | 14.6 | 0 | 1 | 5 | 8 |\n| Volvo 142E | 21.4 | 4 | 121.0 | 109 | 4.11 | 2.780 | 18.6 | 1 | 1 | 4 | 2 |\n\n",
            "text/html": [
              "<table class=\"dataframe\">\n",
              "<caption>A data.frame: 5 × 11</caption>\n",
              "<thead>\n",
              "\t<tr><th></th><th scope=col>mpg</th><th scope=col>cyl</th><th scope=col>disp</th><th scope=col>hp</th><th scope=col>drat</th><th scope=col>wt</th><th scope=col>qsec</th><th scope=col>vs</th><th scope=col>am</th><th scope=col>gear</th><th scope=col>carb</th></tr>\n",
              "\t<tr><th></th><th scope=col>&lt;dbl&gt;</th><th scope=col>&lt;dbl&gt;</th><th scope=col>&lt;dbl&gt;</th><th scope=col>&lt;dbl&gt;</th><th scope=col>&lt;dbl&gt;</th><th scope=col>&lt;dbl&gt;</th><th scope=col>&lt;dbl&gt;</th><th scope=col>&lt;dbl&gt;</th><th scope=col>&lt;dbl&gt;</th><th scope=col>&lt;dbl&gt;</th><th scope=col>&lt;dbl&gt;</th></tr>\n",
              "</thead>\n",
              "<tbody>\n",
              "\t<tr><th scope=row>Lotus Europa</th><td>30.4</td><td>4</td><td> 95.1</td><td>113</td><td>3.77</td><td>1.513</td><td>16.9</td><td>1</td><td>1</td><td>5</td><td>2</td></tr>\n",
              "\t<tr><th scope=row>Ford Pantera L</th><td>15.8</td><td>8</td><td>351.0</td><td>264</td><td>4.22</td><td>3.170</td><td>14.5</td><td>0</td><td>1</td><td>5</td><td>4</td></tr>\n",
              "\t<tr><th scope=row>Ferrari Dino</th><td>19.7</td><td>6</td><td>145.0</td><td>175</td><td>3.62</td><td>2.770</td><td>15.5</td><td>0</td><td>1</td><td>5</td><td>6</td></tr>\n",
              "\t<tr><th scope=row>Maserati Bora</th><td>15.0</td><td>8</td><td>301.0</td><td>335</td><td>3.54</td><td>3.570</td><td>14.6</td><td>0</td><td>1</td><td>5</td><td>8</td></tr>\n",
              "\t<tr><th scope=row>Volvo 142E</th><td>21.4</td><td>4</td><td>121.0</td><td>109</td><td>4.11</td><td>2.780</td><td>18.6</td><td>1</td><td>1</td><td>4</td><td>2</td></tr>\n",
              "</tbody>\n",
              "</table>\n"
            ]
          },
          "metadata": {}
        }
      ]
    },
    {
      "cell_type": "markdown",
      "metadata": {
        "id": "BLsPMLsxHoJF"
      },
      "source": [
        "# Working with datasets (3 points)\n",
        "`MASS` is a package with statistical datasets. Don't assume that `MASS` is already installed on your computer. \n",
        "\n",
        "What do you need to do to use the dataset `Boston` from `MASS` in your current R session?\n",
        "\n",
        "1. Give the commands (one per line)\n",
        "2. Describe what each command does on the same line as the command (as a comment after the command)\n",
        "\n",
        "**Tip:** The answer has three lines."
      ]
    },
    {
      "cell_type": "code",
      "metadata": {
        "colab": {
          "base_uri": "https://localhost:8080/",
          "height": 0
        },
        "id": "jPui6uTVImaS",
        "outputId": "4617e005-ce93-4950-8534-053d7d80f63a"
      },
      "source": [
        "install.packages(\"MASS\") # install MASS package - must have apostrophes\n",
        "library(MASS) # load MASS package into current session (only now Boston can be used)\n",
        "data(Boston) # load dataset Boston from MASS package into current session"
      ],
      "execution_count": 39,
      "outputs": [
        {
          "output_type": "stream",
          "name": "stderr",
          "text": [
            "Installing package into ‘/usr/local/lib/R/site-library’\n",
            "(as ‘lib’ is unspecified)\n",
            "\n"
          ]
        }
      ]
    },
    {
      "cell_type": "markdown",
      "metadata": {
        "id": "if22aEKiJHPM"
      },
      "source": [
        "Note: the full name of the dataset `Boston` is `MASS::Boston`. Do you know how to see that?"
      ]
    },
    {
      "cell_type": "markdown",
      "metadata": {
        "id": "BpOAr6JcJPS1"
      },
      "source": [
        "# Change display width (1 point)\n",
        "How can you change the number of columns displayed on the screen to `100` characters?\n",
        "\n",
        "**Tip:** This option's default is `80` characters."
      ]
    },
    {
      "cell_type": "code",
      "metadata": {
        "id": "J42NEhgMKAca"
      },
      "source": [
        "options(width=100) # this function and argument had been used in a weekly quiz before"
      ],
      "execution_count": 43,
      "outputs": []
    },
    {
      "cell_type": "markdown",
      "metadata": {
        "id": "HxdgCdHlKdeU"
      },
      "source": [
        "Note: in this notebook, you will not see the difference. In the interactive console, you would. To demonstrate the difference, run `head(Nile,20)` before and after the `options(width=100)` command."
      ]
    },
    {
      "cell_type": "markdown",
      "metadata": {
        "id": "tohzz3_OKtk9"
      },
      "source": [
        "# Logarithm base (2 points)\n",
        "One of the built-in R functions is the logarithm. \n",
        "\n",
        "1. What is the base of the logarithm function `log10()` in R?\n",
        "2. How can you print this base value on the screen using `log10()` and e-notation?"
      ]
    },
    {
      "cell_type": "code",
      "metadata": {
        "colab": {
          "base_uri": "https://localhost:8080/",
          "height": 34
        },
        "id": "cXXlq7MzMgqP",
        "outputId": "e2643048-b620-446d-a8ec-b7ffff0f0e07"
      },
      "source": [
        "## log10() has the base 10 - as the function name itself trivially shows!\n",
        "log10(1e+10) # the argument in e-notation is the same as 10,000,000,000"
      ],
      "execution_count": 47,
      "outputs": [
        {
          "output_type": "display_data",
          "data": {
            "text/plain": [
              "[1] 10"
            ],
            "text/latex": "10",
            "text/markdown": "10",
            "text/html": [
              "10"
            ]
          },
          "metadata": {}
        }
      ]
    },
    {
      "cell_type": "markdown",
      "metadata": {
        "id": "bSD3k-EzKzRV"
      },
      "source": [
        "# Testing for equality (2 points)\n",
        "Compare two `numeric` vectors `x` and `y`:\n",
        "```\n",
        "x <- c(1,2,3)\n",
        "y <- c(1,2,4)\n",
        "```\n",
        "1. What is the result of `x==y`?\n",
        "2. Store 'x==y' in an object `foo`. What is `mode(foo)`?"
      ]
    },
    {
      "cell_type": "code",
      "metadata": {
        "colab": {
          "base_uri": "https://localhost:8080/",
          "height": 50
        },
        "id": "s7kO53uQNZah",
        "outputId": "ebff45e7-99bd-49c9-a1bd-02f33514d883"
      },
      "source": [
        "x <- c(1,2,3) # define x\n",
        "y <- c(1,2,4) # define y\n",
        "x==y # compare x and y element-wise: this is a logical operation\n",
        "foo <- x==y # everything in R is an object and can be stored\n",
        "mode(foo) # mode checks the data type of the object foo\n"
      ],
      "execution_count": 48,
      "outputs": [
        {
          "output_type": "display_data",
          "data": {
            "text/plain": [
              "[1]  TRUE  TRUE FALSE"
            ],
            "text/latex": "\\begin{enumerate*}\n\\item TRUE\n\\item TRUE\n\\item FALSE\n\\end{enumerate*}\n",
            "text/markdown": "1. TRUE\n2. TRUE\n3. FALSE\n\n\n",
            "text/html": [
              "<style>\n",
              ".list-inline {list-style: none; margin:0; padding: 0}\n",
              ".list-inline>li {display: inline-block}\n",
              ".list-inline>li:not(:last-child)::after {content: \"\\00b7\"; padding: 0 .5ex}\n",
              "</style>\n",
              "<ol class=list-inline><li>TRUE</li><li>TRUE</li><li>FALSE</li></ol>\n"
            ]
          },
          "metadata": {}
        },
        {
          "output_type": "display_data",
          "data": {
            "text/plain": [
              "[1] \"logical\""
            ],
            "text/latex": "'logical'",
            "text/markdown": "'logical'",
            "text/html": [
              "'logical'"
            ]
          },
          "metadata": {}
        }
      ]
    },
    {
      "cell_type": "markdown",
      "metadata": {
        "id": "Tow8XO3LK7ge"
      },
      "source": [
        "# Built-in datasets (1 point)\n",
        "Which command gives you a list of all pre-installed and pre-loaded data sets on your computer? \n"
      ]
    },
    {
      "cell_type": "code",
      "metadata": {
        "id": "D_3ZHfJiSW8-"
      },
      "source": [
        "data()"
      ],
      "execution_count": 51,
      "outputs": []
    },
    {
      "cell_type": "markdown",
      "metadata": {
        "id": "nd3go-8HSf53"
      },
      "source": [
        "The complete set is printed with the command \n",
        "```\n",
        "data(package = .packages(all.available = TRUE))\n",
        "```"
      ]
    },
    {
      "cell_type": "markdown",
      "metadata": {
        "id": "fK_wrDxOK-Q2"
      },
      "source": [
        "# Accuracy (1 point)\n",
        "Explain why the following expression is `FALSE`:\n",
        "```\n",
        "identical(sqrt(2)**2,2)\n",
        "```"
      ]
    },
    {
      "cell_type": "code",
      "metadata": {
        "colab": {
          "base_uri": "https://localhost:8080/",
          "height": 34
        },
        "id": "IbtPoQmYaXOe",
        "outputId": "684c4ed3-75e8-4935-e423-0190de615ce5"
      },
      "source": [
        "identical(sqrt(2)**2,2)"
      ],
      "execution_count": 52,
      "outputs": [
        {
          "output_type": "display_data",
          "data": {
            "text/plain": [
              "[1] FALSE"
            ],
            "text/latex": "FALSE",
            "text/markdown": "FALSE",
            "text/html": [
              "FALSE"
            ]
          },
          "metadata": {}
        }
      ]
    },
    {
      "cell_type": "markdown",
      "metadata": {
        "id": "QdHJedK2aMx8"
      },
      "source": [
        "Answer: the square of the square root of 2 is different from 2 due to rounding errors, because irrational numbers (like `sqrt(2)`) are represented internally by finite numbers. In R, as in other math packages, this problem can be alleviated but not eliminated."
      ]
    },
    {
      "cell_type": "markdown",
      "metadata": {
        "id": "eCU990ltLDBJ"
      },
      "source": [
        "# Mode and data types (4 points)\n",
        "The functions `storage.mode()` and `mode()` determine the storage type and the mode (or data type) of an R object, respectively.\n",
        "\n",
        "1. What is `storage.mode(1)`?"
      ]
    },
    {
      "cell_type": "code",
      "metadata": {
        "colab": {
          "base_uri": "https://localhost:8080/",
          "height": 34
        },
        "id": "z8-KFMJrdXNU",
        "outputId": "b97d1b8b-45f0-456e-80fd-71e442076f2d"
      },
      "source": [
        "storage.mode(1) # 1 is a number - all numbers are stored as double precision numbers"
      ],
      "execution_count": 53,
      "outputs": [
        {
          "output_type": "display_data",
          "data": {
            "text/plain": [
              "[1] \"double\""
            ],
            "text/latex": "'double'",
            "text/markdown": "'double'",
            "text/html": [
              "'double'"
            ]
          },
          "metadata": {}
        }
      ]
    },
    {
      "cell_type": "markdown",
      "metadata": {
        "id": "hYZQk3YZdiT0"
      },
      "source": [
        "2. What is `mode(1)`?"
      ]
    },
    {
      "cell_type": "code",
      "metadata": {
        "colab": {
          "base_uri": "https://localhost:8080/",
          "height": 34
        },
        "id": "EOT0Rvgodn59",
        "outputId": "626cec0f-7162-45a0-c5e7-5a212fbb7c31"
      },
      "source": [
        "mode(1) # the data type or mode of numbers is always \"numeric\""
      ],
      "execution_count": 54,
      "outputs": [
        {
          "output_type": "display_data",
          "data": {
            "text/plain": [
              "[1] \"numeric\""
            ],
            "text/latex": "'numeric'",
            "text/markdown": "'numeric'",
            "text/html": [
              "'numeric'"
            ]
          },
          "metadata": {}
        }
      ]
    },
    {
      "cell_type": "markdown",
      "metadata": {
        "id": "KRI6axXkdxRf"
      },
      "source": [
        "3. What is `storage.mode(c(\"Fall break\"))`?"
      ]
    },
    {
      "cell_type": "code",
      "metadata": {
        "colab": {
          "base_uri": "https://localhost:8080/",
          "height": 34
        },
        "id": "O3iPOtVhd393",
        "outputId": "2def47fb-2e6c-41e5-a038-b3d5e526f07f"
      },
      "source": [
        "storage.mode(c(\"Fall break\")) # the argument is a 1-element character vector"
      ],
      "execution_count": 55,
      "outputs": [
        {
          "output_type": "display_data",
          "data": {
            "text/plain": [
              "[1] \"character\""
            ],
            "text/latex": "'character'",
            "text/markdown": "'character'",
            "text/html": [
              "'character'"
            ]
          },
          "metadata": {}
        }
      ]
    },
    {
      "cell_type": "markdown",
      "metadata": {
        "id": "NvD0m2gPeAXX"
      },
      "source": [
        "4. What is `mode(c(\"Fall break\"))`?"
      ]
    },
    {
      "cell_type": "code",
      "metadata": {
        "colab": {
          "base_uri": "https://localhost:8080/",
          "height": 34
        },
        "id": "YyzHSNuMeGZ-",
        "outputId": "71a77e17-100e-46db-ac46-3d354a824f34"
      },
      "source": [
        "mode(c(\"Fall break\")) # characters are always stored as characters"
      ],
      "execution_count": 56,
      "outputs": [
        {
          "output_type": "display_data",
          "data": {
            "text/plain": [
              "[1] \"character\""
            ],
            "text/latex": "'character'",
            "text/markdown": "'character'",
            "text/html": [
              "'character'"
            ]
          },
          "metadata": {}
        }
      ]
    },
    {
      "cell_type": "markdown",
      "metadata": {
        "id": "gk62hG0TLIHg"
      },
      "source": [
        "# Checking data structures (3 points)\n",
        "`x`, `A`, `df` are R objects:\n",
        "\n",
        "* `x` is a vector\n",
        "* `A` is a matrix\n",
        "* `df` is a data frame\n",
        "\n",
        "Write three function commands to check if it is true that `x` is a vector, `A` is a matrix, and `df` is a data frame.\n",
        "\n"
      ]
    },
    {
      "cell_type": "code",
      "metadata": {
        "colab": {
          "base_uri": "https://localhost:8080/",
          "height": 34
        },
        "id": "d_PS-tuzejlC",
        "outputId": "d146f1cb-149d-4ba8-cc5e-3be6bd52ba53"
      },
      "source": [
        "x <- vector() # this function defines an empty logical vector\n",
        "length(x) # shows that the vector is empty"
      ],
      "execution_count": 60,
      "outputs": [
        {
          "output_type": "display_data",
          "data": {
            "text/plain": [
              "[1] 0"
            ],
            "text/latex": "0",
            "text/markdown": "0",
            "text/html": [
              "0"
            ]
          },
          "metadata": {}
        }
      ]
    },
    {
      "cell_type": "code",
      "metadata": {
        "colab": {
          "base_uri": "https://localhost:8080/",
          "height": 34
        },
        "id": "sYsw2hOWfAps",
        "outputId": "10e107af-a75d-4aaa-e43a-cf6e6e52a948"
      },
      "source": [
        "is.vector(x)  # tests if x is actually a vector structure"
      ],
      "execution_count": 61,
      "outputs": [
        {
          "output_type": "display_data",
          "data": {
            "text/plain": [
              "[1] TRUE"
            ],
            "text/latex": "TRUE",
            "text/markdown": "TRUE",
            "text/html": [
              "TRUE"
            ]
          },
          "metadata": {}
        }
      ]
    },
    {
      "cell_type": "code",
      "metadata": {
        "colab": {
          "base_uri": "https://localhost:8080/",
          "height": 34
        },
        "id": "bAwe7grPfKZO",
        "outputId": "be63162b-3d5e-49c7-e46c-287ec263cf19"
      },
      "source": [
        "A <- matrix() # defines a 1x1 matrix that contains NA\n",
        "dim(A) # dimension of the matrix\n"
      ],
      "execution_count": 64,
      "outputs": [
        {
          "output_type": "display_data",
          "data": {
            "text/plain": [
              "[1] 1 1"
            ],
            "text/latex": "\\begin{enumerate*}\n\\item 1\n\\item 1\n\\end{enumerate*}\n",
            "text/markdown": "1. 1\n2. 1\n\n\n",
            "text/html": [
              "<style>\n",
              ".list-inline {list-style: none; margin:0; padding: 0}\n",
              ".list-inline>li {display: inline-block}\n",
              ".list-inline>li:not(:last-child)::after {content: \"\\00b7\"; padding: 0 .5ex}\n",
              "</style>\n",
              "<ol class=list-inline><li>1</li><li>1</li></ol>\n"
            ]
          },
          "metadata": {}
        }
      ]
    },
    {
      "cell_type": "code",
      "metadata": {
        "colab": {
          "base_uri": "https://localhost:8080/",
          "height": 34
        },
        "id": "eKcN0HAffcSG",
        "outputId": "b509a1f3-4e84-4a16-c653-0b81cb547b8e"
      },
      "source": [
        "is.matrix(A) # tests if A is actually a matrix structure"
      ],
      "execution_count": 65,
      "outputs": [
        {
          "output_type": "display_data",
          "data": {
            "text/plain": [
              "[1] TRUE"
            ],
            "text/latex": "TRUE",
            "text/markdown": "TRUE",
            "text/html": [
              "TRUE"
            ]
          },
          "metadata": {}
        }
      ]
    },
    {
      "cell_type": "code",
      "metadata": {
        "colab": {
          "base_uri": "https://localhost:8080/"
        },
        "id": "qioy7_ZAfhun",
        "outputId": "f6b33360-8e6a-4411-911e-d7593113a15b"
      },
      "source": [
        "df <- data.frame() # defines an empty data frame\n",
        "str(df) # structure of the data frame"
      ],
      "execution_count": 67,
      "outputs": [
        {
          "output_type": "stream",
          "name": "stdout",
          "text": [
            "'data.frame':\t0 obs. of  0 variables\n"
          ]
        }
      ]
    },
    {
      "cell_type": "code",
      "metadata": {
        "colab": {
          "base_uri": "https://localhost:8080/",
          "height": 34
        },
        "id": "aVBmNUMWfs7Y",
        "outputId": "8cbd6c92-8a67-4e7d-adf8-3deb060f5e2f"
      },
      "source": [
        "is.data.frame(df) # tests if df is actually a data frame structure"
      ],
      "execution_count": 68,
      "outputs": [
        {
          "output_type": "display_data",
          "data": {
            "text/plain": [
              "[1] TRUE"
            ],
            "text/latex": "TRUE",
            "text/markdown": "TRUE",
            "text/html": [
              "TRUE"
            ]
          },
          "metadata": {}
        }
      ]
    },
    {
      "cell_type": "markdown",
      "metadata": {
        "id": "BC7bVjVxfzSK"
      },
      "source": [
        "Note: the answer made the points with six different functions, not just with three."
      ]
    },
    {
      "cell_type": "markdown",
      "metadata": {
        "id": "klHdot4ALM7A"
      },
      "source": [
        "# Named vectors (5 points)"
      ]
    },
    {
      "cell_type": "markdown",
      "metadata": {
        "id": "9mGBrV_TLPdg"
      },
      "source": [
        "# Binary operators (1 point)"
      ]
    },
    {
      "cell_type": "markdown",
      "metadata": {
        "id": "IXDtelHXL2nF"
      },
      "source": [
        "# Special numbers (6 points)"
      ]
    },
    {
      "cell_type": "markdown",
      "metadata": {
        "id": "e7LWfc9XL57d"
      },
      "source": [
        "# Bonus: Plot and histogram (2 points)"
      ]
    },
    {
      "cell_type": "markdown",
      "metadata": {
        "id": "MGLZTQvbL_aL"
      },
      "source": [
        "# Bonus: Citing software (2 points)"
      ]
    },
    {
      "cell_type": "markdown",
      "metadata": {
        "id": "y4W5gyiDMCh8"
      },
      "source": [
        "# Bonus: Quitting R (2 points)"
      ]
    },
    {
      "cell_type": "markdown",
      "metadata": {
        "id": "EKp7eEzaMH92"
      },
      "source": [
        "# Bonus: Generic functions (2 points)"
      ]
    },
    {
      "cell_type": "markdown",
      "metadata": {
        "id": "jpBOLGEjMMwd"
      },
      "source": [
        "# Bonus: Structure of a dataset (2 points)"
      ]
    }
  ]
}