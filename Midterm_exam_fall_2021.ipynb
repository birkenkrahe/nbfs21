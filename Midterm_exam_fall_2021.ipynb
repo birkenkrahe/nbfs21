{
  "nbformat": 4,
  "nbformat_minor": 0,
  "metadata": {
    "colab": {
      "name": "Midterm_exam_fall_2021",
      "provenance": [],
      "authorship_tag": "ABX9TyN8HAtopEzH2kbouWfbhaAF",
      "include_colab_link": true
    },
    "kernelspec": {
      "name": "ir",
      "display_name": "R"
    },
    "language_info": {
      "name": "R"
    }
  },
  "cells": [
    {
      "cell_type": "markdown",
      "metadata": {
        "id": "view-in-github",
        "colab_type": "text"
      },
      "source": [
        "<a href=\"https://colab.research.google.com/github/birkenkrahe/notebooksf21/blob/main/Midterm_exam_fall_2021.ipynb\" target=\"_parent\"><img src=\"https://colab.research.google.com/assets/colab-badge.svg\" alt=\"Open In Colab\"/></a>"
      ]
    },
    {
      "cell_type": "markdown",
      "metadata": {
        "id": "07XtQN8l5Po3"
      },
      "source": [
        "# Properties of R (5 points)\n",
        "List as many properties of R as you can think of.\n",
        "\n",
        "    Tip: remember the information when you open R from the terminal. I\n",
        "    could think of ten different properties. If you only identify 5\n",
        "    you get full points - any more will get you extra points."
      ]
    },
    {
      "cell_type": "markdown",
      "metadata": {
        "id": "RMHX0Qpt5xGe"
      },
      "source": [
        "**ANSWER**\n",
        "\n",
        "    1. Free software (GNU license)\n",
        "    2. Statistical programming language\n",
        "    3. Functional programming language\n",
        "    4. Object-oriented programming language\n",
        "    5. Successor to S\n",
        "    6. Collaborative project\n",
        "    7. Interactive shell language\n",
        "    8. Graphics oriented\n",
        "    9. Easy to learn\n",
        "    10. Large user community\n"
      ]
    },
    {
      "cell_type": "code",
      "metadata": {
        "id": "XYeIfA0o5IQE"
      },
      "source": [
        ""
      ],
      "execution_count": null,
      "outputs": []
    },
    {
      "cell_type": "code",
      "metadata": {
        "id": "Uznrk3WE5mKY"
      },
      "source": [
        ""
      ],
      "execution_count": null,
      "outputs": []
    }
  ]
}