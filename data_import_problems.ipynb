{
  "nbformat": 4,
  "nbformat_minor": 0,
  "metadata": {
    "colab": {
      "name": "data_import_problems.ipynb",
      "provenance": [],
      "collapsed_sections": [
        "leMNWJpghfi8",
        "ulj6JnKImEtV"
      ],
      "authorship_tag": "ABX9TyNBgN5yysQmcr9yR8vNjJOj",
      "include_colab_link": true
    },
    "kernelspec": {
      "name": "ir",
      "display_name": "R"
    },
    "language_info": {
      "name": "R"
    }
  },
  "cells": [
    {
      "cell_type": "markdown",
      "metadata": {
        "id": "view-in-github",
        "colab_type": "text"
      },
      "source": [
        "<a href=\"https://colab.research.google.com/github/birkenkrahe/notebooksf21/blob/main/data_import_problems.ipynb\" target=\"_parent\"><img src=\"https://colab.research.google.com/assets/colab-badge.svg\" alt=\"Open In Colab\"/></a>"
      ]
    },
    {
      "cell_type": "markdown",
      "metadata": {
        "id": "3Yoj4ok_eh4-"
      },
      "source": [
        "# Data import with R\n",
        "The main purpose of this practice sheet is to practice what you've learnt in the [DataCamp assignment](https://campus.datacamp.com/courses/introduction-to-importing-data-in-r/importing-data-from-flat-files-with-utils?ex=1).\n",
        "\n",
        "Along the way, we're going to repeat some R commands and add a little more I/O information."
      ]
    },
    {
      "cell_type": "markdown",
      "metadata": {
        "id": "leMNWJpghfi8"
      },
      "source": [
        "## Uploading files\n",
        "\n",
        "* Download the files `hotdogs.txt` and `swimming_pools.csv` from GitHub to your computer.\n",
        "* Enter the command to find out in which working directory you currently are."
      ]
    },
    {
      "cell_type": "code",
      "metadata": {
        "colab": {
          "base_uri": "https://localhost:8080/",
          "height": 34
        },
        "id": "EtwUASZ-D-fz",
        "outputId": "f746f913-9212-456c-ff63-64e3f98f091c"
      },
      "source": [
        "getwd()"
      ],
      "execution_count": 27,
      "outputs": [
        {
          "output_type": "display_data",
          "data": {
            "text/plain": [
              "[1] \"/content\""
            ],
            "text/latex": "'/content'",
            "text/markdown": "'/content'",
            "text/html": [
              "'/content'"
            ]
          },
          "metadata": {}
        }
      ]
    },
    {
      "cell_type": "markdown",
      "metadata": {
        "id": "ulj6JnKImEtV"
      },
      "source": [
        "## Notebook navigation\n",
        "\n",
        "- Open the folder symbol in the left sidebar. It only shows the contents of the current folder, `sample_data`. \n",
        "- Navigate to the next higher folder by clicking on the symbol right above the folder `sample_data`.\n",
        "\n",
        "You are now looking at a complete Linux file server tree. On Unix-like systems (Linux, MacOS), file paths are separated by forward slashes `/`, while Windows uses backward slashes `\\`. Data uploaded anywhere but in `/content` are deleted whenever the connection to your session is severed.\n",
        "\n",
        "- In the sidebar, find the (empty) folder `practice` and right-click on the folder name to open a menu and choose `Upload`.\n",
        "- Upload the files `hotdogs.txt` and `swimming_pools.csv` to `practice`.\n",
        "- Enter the command to change the working directory to `/practice`. \n",
        "\n",
        "*Tip: the working directory changing command needs the absolute path to the target folder.*\n"
      ]
    },
    {
      "cell_type": "code",
      "metadata": {
        "id": "0Vt2fjjBgx5Q"
      },
      "source": [
        "setwd(\"/content/practice\")"
      ],
      "execution_count": 28,
      "outputs": []
    },
    {
      "cell_type": "markdown",
      "metadata": {
        "id": "z3-1YoymHVV2"
      },
      "source": [
        "Enter the command to show that you are in fact in the folder `/practice`."
      ]
    },
    {
      "cell_type": "code",
      "metadata": {
        "colab": {
          "base_uri": "https://localhost:8080/",
          "height": 34
        },
        "id": "Ecn2HCeOG4Lg",
        "outputId": "4b7f4829-1ac5-47e2-80c9-078a79928112"
      },
      "source": [
        "getwd()"
      ],
      "execution_count": 29,
      "outputs": [
        {
          "output_type": "display_data",
          "data": {
            "text/plain": [
              "[1] \"/content/practice\""
            ],
            "text/latex": "'/content/practice'",
            "text/markdown": "'/content/practice'",
            "text/html": [
              "'/content/practice'"
            ]
          },
          "metadata": {}
        }
      ]
    },
    {
      "cell_type": "markdown",
      "metadata": {
        "id": "YZJbct_thad1"
      },
      "source": [
        "## Finding files\n",
        "\n",
        "Find the files in `/practice`: you can see in the sidebar that they're there. Enter a command that will print the file names."
      ]
    },
    {
      "cell_type": "code",
      "metadata": {
        "colab": {
          "base_uri": "https://localhost:8080/",
          "height": 34
        },
        "id": "LWn6m8BDhWZq",
        "outputId": "d7180b33-e9f4-48cf-cb8d-040a5d98169f"
      },
      "source": [
        "dir()"
      ],
      "execution_count": 30,
      "outputs": [
        {
          "output_type": "display_data",
          "data": {
            "text/plain": [
              "[1] \"hotdogs.txt\"        \"swimming_pools.csv\""
            ],
            "text/latex": "\\begin{enumerate*}\n\\item 'hotdogs.txt'\n\\item 'swimming\\_pools.csv'\n\\end{enumerate*}\n",
            "text/markdown": "1. 'hotdogs.txt'\n2. 'swimming_pools.csv'\n\n\n",
            "text/html": [
              "<style>\n",
              ".list-inline {list-style: none; margin:0; padding: 0}\n",
              ".list-inline>li {display: inline-block}\n",
              ".list-inline>li:not(:last-child)::after {content: \"\\00b7\"; padding: 0 .5ex}\n",
              "</style>\n",
              "<ol class=list-inline><li>'hotdogs.txt'</li><li>'swimming_pools.csv'</li></ol>\n"
            ]
          },
          "metadata": {}
        }
      ]
    },
    {
      "cell_type": "markdown",
      "metadata": {
        "id": "O9Ga8H5qH9B9"
      },
      "source": [
        "Show the structure of the object you just created."
      ]
    },
    {
      "cell_type": "code",
      "metadata": {
        "colab": {
          "base_uri": "https://localhost:8080/"
        },
        "id": "DSKg2QkbIEoa",
        "outputId": "6c6a1708-e3fd-4f8e-89c3-293f29c8abad"
      },
      "source": [
        "str(dir())"
      ],
      "execution_count": 31,
      "outputs": [
        {
          "output_type": "stream",
          "name": "stdout",
          "text": [
            " chr [1:2] \"hotdogs.txt\" \"swimming_pools.csv\"\n"
          ]
        }
      ]
    },
    {
      "cell_type": "markdown",
      "metadata": {
        "id": "A1Cg7xTrKKdC"
      },
      "source": [
        "What kind of data structure is this? Write the complete technical name for this object in the text box:"
      ]
    },
    {
      "cell_type": "markdown",
      "metadata": {
        "id": "6QkxZSFpKVch"
      },
      "source": [
        "**ANSWER: `dir()` creates** a `character` vector of two elements. Each element is the name of a file in the current working directory."
      ]
    },
    {
      "cell_type": "code",
      "metadata": {
        "id": "_bPed5U-QLw-"
      },
      "source": [
        ""
      ],
      "execution_count": null,
      "outputs": []
    },
    {
      "cell_type": "markdown",
      "metadata": {
        "id": "9gRAAvh3PAyC"
      },
      "source": [
        "## Loading text files\n",
        "Take a look at the text file `hotdogs.txt`, and import it as a data frame named `hotdogs`."
      ]
    },
    {
      "cell_type": "code",
      "metadata": {
        "id": "eOT8MehdPZO7"
      },
      "source": [
        "hotdogs <- read.delim(file=\"hotdogs.txt\", header=FALSE)"
      ],
      "execution_count": 32,
      "outputs": []
    },
    {
      "cell_type": "markdown",
      "metadata": {
        "id": "BLviG7fTQOYw"
      },
      "source": [
        "Print the first few lines of `hotdogs`."
      ]
    },
    {
      "cell_type": "code",
      "metadata": {
        "colab": {
          "base_uri": "https://localhost:8080/",
          "height": 282
        },
        "id": "y2LrOdt1QU7x",
        "outputId": "91fdb8ce-1bea-43b7-eebc-60537c0c465b"
      },
      "source": [
        "head(hotdogs)"
      ],
      "execution_count": 33,
      "outputs": [
        {
          "output_type": "display_data",
          "data": {
            "text/plain": [
              "  V1   V2  V3 \n",
              "1 Beef 186 495\n",
              "2 Beef 181 477\n",
              "3 Beef 176 425\n",
              "4 Beef 149 322\n",
              "5 Beef 184 482\n",
              "6 Beef 190 587"
            ],
            "text/latex": "A data.frame: 6 × 3\n\\begin{tabular}{r|lll}\n  & V1 & V2 & V3\\\\\n  & <chr> & <int> & <int>\\\\\n\\hline\n\t1 & Beef & 186 & 495\\\\\n\t2 & Beef & 181 & 477\\\\\n\t3 & Beef & 176 & 425\\\\\n\t4 & Beef & 149 & 322\\\\\n\t5 & Beef & 184 & 482\\\\\n\t6 & Beef & 190 & 587\\\\\n\\end{tabular}\n",
            "text/markdown": "\nA data.frame: 6 × 3\n\n| <!--/--> | V1 &lt;chr&gt; | V2 &lt;int&gt; | V3 &lt;int&gt; |\n|---|---|---|---|\n| 1 | Beef | 186 | 495 |\n| 2 | Beef | 181 | 477 |\n| 3 | Beef | 176 | 425 |\n| 4 | Beef | 149 | 322 |\n| 5 | Beef | 184 | 482 |\n| 6 | Beef | 190 | 587 |\n\n",
            "text/html": [
              "<table class=\"dataframe\">\n",
              "<caption>A data.frame: 6 × 3</caption>\n",
              "<thead>\n",
              "\t<tr><th></th><th scope=col>V1</th><th scope=col>V2</th><th scope=col>V3</th></tr>\n",
              "\t<tr><th></th><th scope=col>&lt;chr&gt;</th><th scope=col>&lt;int&gt;</th><th scope=col>&lt;int&gt;</th></tr>\n",
              "</thead>\n",
              "<tbody>\n",
              "\t<tr><th scope=row>1</th><td>Beef</td><td>186</td><td>495</td></tr>\n",
              "\t<tr><th scope=row>2</th><td>Beef</td><td>181</td><td>477</td></tr>\n",
              "\t<tr><th scope=row>3</th><td>Beef</td><td>176</td><td>425</td></tr>\n",
              "\t<tr><th scope=row>4</th><td>Beef</td><td>149</td><td>322</td></tr>\n",
              "\t<tr><th scope=row>5</th><td>Beef</td><td>184</td><td>482</td></tr>\n",
              "\t<tr><th scope=row>6</th><td>Beef</td><td>190</td><td>587</td></tr>\n",
              "</tbody>\n",
              "</table>\n"
            ]
          },
          "metadata": {}
        }
      ]
    },
    {
      "cell_type": "markdown",
      "metadata": {
        "id": "fK4EZiyILKNt"
      },
      "source": [
        "## Complete Creative Commons reference\n",
        "\n",
        "The file `swimming_pools.txt` is distributed under a 'Creative Commons' copyright. Check [the origin of the file](https://www.data.brisbane.qld.gov.au/data/dataset/swimming-pools) to find out how to complete the reference below, and complete it accordingly."
      ]
    },
    {
      "cell_type": "markdown",
      "metadata": {
        "id": "44N9EiJgLkc2"
      },
      "source": [
        "## References\n",
        "\n",
        "`hotdog.txt`: Moore, David S., and George P. McCabe (1989). Introduction to the Practice of Statistics. Original source: Consumer Reports, June 1986, pp. 366-367\n",
        "\n",
        "R Core Team (2021). R: A language and environment for statistical computing. R Foundation for Statistical Computing, Vienna, Austria. Online: [www.R-project.org](https://www.r-project.org).\n",
        "\n",
        "`swimming_pools.csv`: Brisbane City Council swimming pools (29 June 2015). Online: [data.brisbane.qld.gov.au](https://www.data.brisbane.qld.gov.au/data/dataset/swimming-pools). [Creative Commons Attribution 4.0](https://creativecommons.org/licenses/by/4.0). "
      ]
    }
  ]
}